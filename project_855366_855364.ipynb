{
 "cells": [
  {
   "cell_type": "markdown",
   "metadata": {},
   "source": [
    "## Имена на студенти\n",
    "Йордан Оле Глигоров ф.н.: 855366 СИ 4 курс  \n",
    "Ивана Дончевска ф.н.: 855364 СИ 4 курс\n",
    "\n",
    "## Тип на проекта\n",
    "Тип - А \n",
    "\n",
    "## название на проекта (предметна област)\n",
    "Bitcoin price prediction\n",
    "\n",
    "## Kратко описание на данните, които ще използвате (за проект от тип А - включително визуализации и първоначален EDA на данните)\n",
    "Данни от  bitinfocharts.com\n",
    "Тук има 14 features, \n",
    "1. Number of transactions in blockchain per day\n",
    "2. Average block size (KB)\n",
    "3. Number of sent by addresses\n",
    "4. Number of active addresses\n",
    "5. Average mining difficulty (Hash/day)\n",
    "6. Average hash rate (hash/s)\n",
    "7. Mining Profitability (USD)\n",
    "8. Sent coins (USD)\n",
    "9. Average & Median transaction fee (USD)\n",
    "10. Average block time (minutes)\n",
    "11. Average & Median Transaction Value (USD)\n",
    "12. Tweets & Google Trends to “Bitcoin” per day\n",
    "13. Average Fee Percentage in Total Block Reward\n",
    "14. Top 100 Richest Addresses to Total coins\n",
    "\n",
    "Данни от Quandl библиотеката\n",
    "1. Miner Revenue (USD)\n",
    "2. Number of coins in circulation\n",
    "\n",
    "Данни от investpy библиотеката\n",
    "1. Opening Price\n",
    "2. Highest Price\n",
    "3. Lowest Price\n",
    "4. Closing Price\n",
    "\n",
    "## кратко описание на алгоритмите, които ще използвате\n",
    "Ще използваме и сравним следващите алгоритми:\n",
    "1. SVR – Support Vector Regression (SVM for regression)​\n",
    "2. Extreme Gradient Boosting Regression – XGBoost (Boosting model constructed from tree models) - XGBoost, съкращение от eXtreme Gradient Boosting, принадлежи към групата за обучение в ансамбъл и се основава на рамката за усилване на градиента. XGBoost изгражда поредица от дървета на решения итеративно, където всяко дърво коригира грешките на предишните. Той включва техники за регулиране, паралелно изчисление и разнообразие от опции за настройка на хиперпараметри, което го прави високоефективен и ефективен при изготвянето на точни прогнози, като същевременно избягва пренастройването. XGBoost се използва широко в различни състезания по наука за данни и приложения в реалния свят поради своята производителност и гъвкавост.\n",
    "3. Linear Regression ​- Линейната регресия е статистически метод за моделиране на връзката между зависима променлива и една или повече независими променливи. Приема се линейна зависимост, представена от права линия, за да се направят прогнози или да се направи извод за въздействието на промените в независимите променливи върху зависимата променлива.\n",
    "4. Long Short-Term Memory (LSTM) (Type of recurrent Neural Networks)​ - LSTM използват клетки с памет с gates(врати?), като входни, забравени и изходни gates, за регулиране на потока от информация, позволявайки на модела да улавя и запазва важна информация в разширени последователности, което ги прави много подходящи за задачи, включващи данни от времеви серии, естествени езикова обработка и други приложения за последователни данни.\n",
    "5. Bidirectional Long Short-Term Memory (BI-LSTM) - Процес на създаване на NN да има информация за последователността в двете посоки назад (от бъдещето към миналото) или напред (от миналото към бъдещето)\n",
    "\n",
    "## библиотеки и технологии, които смятате да използвате\n",
    "Pandas, numpy, sklearn, matplotlib, seaborn, investpy, quandl"
   ]
  },
  {
   "cell_type": "code",
   "execution_count": null,
   "metadata": {},
   "outputs": [],
   "source": []
  }
 ],
 "metadata": {
  "language_info": {
   "name": "python"
  }
 },
 "nbformat": 4,
 "nbformat_minor": 2
}
