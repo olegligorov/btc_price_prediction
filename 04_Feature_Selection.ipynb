{
 "cells": [
  {
   "cell_type": "code",
   "execution_count": 1,
   "id": "initial_id",
   "metadata": {
    "collapsed": true,
    "ExecuteTime": {
     "end_time": "2024-01-23T07:49:00.558504Z",
     "start_time": "2024-01-23T07:48:57.981927Z"
    }
   },
   "outputs": [],
   "source": [
    "import pandas as pd\n",
    "import seaborn as sns\n",
    "import matplotlib.pyplot as plt\n",
    "import numpy as np\n",
    "import random\n",
    "import missingno as msno\n",
    "#from google.colab import data_table\n",
    "from tabulate import tabulate\n",
    "import warnings\n",
    "warnings.filterwarnings(\"ignore\")\n",
    "from sklearn.ensemble import RandomForestRegressor\n",
    "from sklearn.preprocessing import RobustScaler,MinMaxScaler,PowerTransformer,StandardScaler\n",
    "import matplotlib as mpl\n",
    "import matplotlib.pyplot as plt\n",
    "import seaborn as sns\n",
    "from sklearn.feature_selection import RFECV\n",
    "from sklearn.model_selection import TimeSeriesSplit\n",
    "from sklearn.linear_model import LinearRegression"
   ]
  },
  {
   "cell_type": "code",
   "execution_count": 16,
   "outputs": [
    {
     "data": {
      "text/plain": "            Date  opening_price  highest_price  lowest_price  closing_price  \\\n0     2013-01-02          13.24          13.24         12.77          13.22   \n1     2013-01-03          13.12          13.19         12.98          13.09   \n2     2013-01-04          13.09          13.26         12.96          13.19   \n3     2013-01-05          13.12          13.24         12.84          13.19   \n4     2013-01-06          13.19          13.19         13.03          13.15   \n...          ...            ...            ...           ...            ...   \n4027  2024-01-15       41700.91       43332.79      41682.62       42492.35   \n4028  2024-01-16       42483.97       43569.31      42033.30       43131.47   \n4029  2024-01-17       43132.80       43185.47      42164.99       42741.63   \n4030  2024-01-18       42740.17       42879.39      40605.54       41292.17   \n4031  2024-01-19       41289.50       42160.16      40244.67       41629.02   \n\n      transactions_in_blockchain  avg_block_size  sent_by_adress  \\\n0                          39280          114077           31809   \n1                          42147          108023           38197   \n2                          48436          141811           34990   \n3                          39455          118240           38008   \n4                          32881          100608           30021   \n...                          ...             ...             ...   \n4027                      408385          754220          375303   \n4028                      469997          752060          391211   \n4029                      449294          747345          441886   \n4030                      483875          739462          449416   \n4031                      460631          775060          376114   \n\n      avg_mining_difficulty  avg_hashrate  ...  avg_transaction_value  \\\n0                   2979637  2.280465e+13  ...                650.617   \n1                   2979637  2.372489e+13  ...                542.730   \n2                   2979637  2.260818e+13  ...                632.431   \n3                   2979637  2.259070e+13  ...                697.556   \n4                   2979637  2.076659e+13  ...                436.105   \n...                     ...           ...  ...                    ...   \n4027         73197634206448  4.427672e+20  ...              73720.000   \n4028         73197634206448  4.766308e+20  ...              84100.000   \n4029         73197634206448  4.007983e+20  ...             115218.000   \n4030         73197634206448  4.756212e+20  ...              99128.000   \n4031         73197634206448  5.322092e+20  ...              84502.000   \n\n      median_transaction_value         tweets  google_trends  \\\n0                       14.514    8193.000000       1.497000   \n1                       19.732    8193.000000       1.798000   \n2                       11.384    8193.000000       1.841000   \n3                       13.945    8193.000000       1.826000   \n4                       17.618    8193.000000       2.187000   \n...                        ...            ...            ...   \n4027                    30.199  203592.746000      10.443000   \n4028                     0.234  203645.994121       9.137000   \n4029                    56.659  203693.132959       8.050000   \n4030                    87.060  203732.860584       8.920000   \n4031                    85.141  203763.519531       9.704211   \n\n      active_addresses   top100_to_total_percentage  avg_fee_to_reward  \\\n0              43104.0  Axes(0.125,0.11;0.775x0.77)              0.835   \n1              51268.0  Axes(0.125,0.11;0.775x0.77)              0.925   \n2              47341.0  Axes(0.125,0.11;0.775x0.77)              1.000   \n3              53417.0  Axes(0.125,0.11;0.775x0.77)              0.885   \n4              42211.0  Axes(0.125,0.11;0.775x0.77)              0.957   \n...                ...                          ...                ...   \n4027          658906.0  Axes(0.125,0.11;0.775x0.77)             14.149   \n4028          653810.0  Axes(0.125,0.11;0.775x0.77)             13.728   \n4029          689721.0  Axes(0.125,0.11;0.775x0.77)             12.154   \n4030          732999.0  Axes(0.125,0.11;0.775x0.77)             12.027   \n4031          716688.0  Axes(0.125,0.11;0.775x0.77)              9.261   \n\n      number_of_coins_in_circulation                miner_revenue  \\\n0        Axes(0.125,0.11;0.775x0.77)  Axes(0.125,0.11;0.775x0.77)   \n1        Axes(0.125,0.11;0.775x0.77)  Axes(0.125,0.11;0.775x0.77)   \n2        Axes(0.125,0.11;0.775x0.77)  Axes(0.125,0.11;0.775x0.77)   \n3        Axes(0.125,0.11;0.775x0.77)  Axes(0.125,0.11;0.775x0.77)   \n4        Axes(0.125,0.11;0.775x0.77)  Axes(0.125,0.11;0.775x0.77)   \n...                              ...                          ...   \n4027     Axes(0.125,0.11;0.775x0.77)  Axes(0.125,0.11;0.775x0.77)   \n4028     Axes(0.125,0.11;0.775x0.77)  Axes(0.125,0.11;0.775x0.77)   \n4029     Axes(0.125,0.11;0.775x0.77)  Axes(0.125,0.11;0.775x0.77)   \n4030     Axes(0.125,0.11;0.775x0.77)  Axes(0.125,0.11;0.775x0.77)   \n4031     Axes(0.125,0.11;0.775x0.77)  Axes(0.125,0.11;0.775x0.77)   \n\n      next_day_closing_price  \n0                      13.09  \n1                      13.19  \n2                      13.19  \n3                      13.15  \n4                      13.15  \n...                      ...  \n4027                43131.47  \n4028                42741.63  \n4029                41292.17  \n4030                41629.02  \n4031                41689.62  \n\n[4032 rows x 25 columns]",
      "text/html": "<div>\n<style scoped>\n    .dataframe tbody tr th:only-of-type {\n        vertical-align: middle;\n    }\n\n    .dataframe tbody tr th {\n        vertical-align: top;\n    }\n\n    .dataframe thead th {\n        text-align: right;\n    }\n</style>\n<table border=\"1\" class=\"dataframe\">\n  <thead>\n    <tr style=\"text-align: right;\">\n      <th></th>\n      <th>Date</th>\n      <th>opening_price</th>\n      <th>highest_price</th>\n      <th>lowest_price</th>\n      <th>closing_price</th>\n      <th>transactions_in_blockchain</th>\n      <th>avg_block_size</th>\n      <th>sent_by_adress</th>\n      <th>avg_mining_difficulty</th>\n      <th>avg_hashrate</th>\n      <th>...</th>\n      <th>avg_transaction_value</th>\n      <th>median_transaction_value</th>\n      <th>tweets</th>\n      <th>google_trends</th>\n      <th>active_addresses</th>\n      <th>top100_to_total_percentage</th>\n      <th>avg_fee_to_reward</th>\n      <th>number_of_coins_in_circulation</th>\n      <th>miner_revenue</th>\n      <th>next_day_closing_price</th>\n    </tr>\n  </thead>\n  <tbody>\n    <tr>\n      <th>0</th>\n      <td>2013-01-02</td>\n      <td>13.24</td>\n      <td>13.24</td>\n      <td>12.77</td>\n      <td>13.22</td>\n      <td>39280</td>\n      <td>114077</td>\n      <td>31809</td>\n      <td>2979637</td>\n      <td>2.280465e+13</td>\n      <td>...</td>\n      <td>650.617</td>\n      <td>14.514</td>\n      <td>8193.000000</td>\n      <td>1.497000</td>\n      <td>43104.0</td>\n      <td>Axes(0.125,0.11;0.775x0.77)</td>\n      <td>0.835</td>\n      <td>Axes(0.125,0.11;0.775x0.77)</td>\n      <td>Axes(0.125,0.11;0.775x0.77)</td>\n      <td>13.09</td>\n    </tr>\n    <tr>\n      <th>1</th>\n      <td>2013-01-03</td>\n      <td>13.12</td>\n      <td>13.19</td>\n      <td>12.98</td>\n      <td>13.09</td>\n      <td>42147</td>\n      <td>108023</td>\n      <td>38197</td>\n      <td>2979637</td>\n      <td>2.372489e+13</td>\n      <td>...</td>\n      <td>542.730</td>\n      <td>19.732</td>\n      <td>8193.000000</td>\n      <td>1.798000</td>\n      <td>51268.0</td>\n      <td>Axes(0.125,0.11;0.775x0.77)</td>\n      <td>0.925</td>\n      <td>Axes(0.125,0.11;0.775x0.77)</td>\n      <td>Axes(0.125,0.11;0.775x0.77)</td>\n      <td>13.19</td>\n    </tr>\n    <tr>\n      <th>2</th>\n      <td>2013-01-04</td>\n      <td>13.09</td>\n      <td>13.26</td>\n      <td>12.96</td>\n      <td>13.19</td>\n      <td>48436</td>\n      <td>141811</td>\n      <td>34990</td>\n      <td>2979637</td>\n      <td>2.260818e+13</td>\n      <td>...</td>\n      <td>632.431</td>\n      <td>11.384</td>\n      <td>8193.000000</td>\n      <td>1.841000</td>\n      <td>47341.0</td>\n      <td>Axes(0.125,0.11;0.775x0.77)</td>\n      <td>1.000</td>\n      <td>Axes(0.125,0.11;0.775x0.77)</td>\n      <td>Axes(0.125,0.11;0.775x0.77)</td>\n      <td>13.19</td>\n    </tr>\n    <tr>\n      <th>3</th>\n      <td>2013-01-05</td>\n      <td>13.12</td>\n      <td>13.24</td>\n      <td>12.84</td>\n      <td>13.19</td>\n      <td>39455</td>\n      <td>118240</td>\n      <td>38008</td>\n      <td>2979637</td>\n      <td>2.259070e+13</td>\n      <td>...</td>\n      <td>697.556</td>\n      <td>13.945</td>\n      <td>8193.000000</td>\n      <td>1.826000</td>\n      <td>53417.0</td>\n      <td>Axes(0.125,0.11;0.775x0.77)</td>\n      <td>0.885</td>\n      <td>Axes(0.125,0.11;0.775x0.77)</td>\n      <td>Axes(0.125,0.11;0.775x0.77)</td>\n      <td>13.15</td>\n    </tr>\n    <tr>\n      <th>4</th>\n      <td>2013-01-06</td>\n      <td>13.19</td>\n      <td>13.19</td>\n      <td>13.03</td>\n      <td>13.15</td>\n      <td>32881</td>\n      <td>100608</td>\n      <td>30021</td>\n      <td>2979637</td>\n      <td>2.076659e+13</td>\n      <td>...</td>\n      <td>436.105</td>\n      <td>17.618</td>\n      <td>8193.000000</td>\n      <td>2.187000</td>\n      <td>42211.0</td>\n      <td>Axes(0.125,0.11;0.775x0.77)</td>\n      <td>0.957</td>\n      <td>Axes(0.125,0.11;0.775x0.77)</td>\n      <td>Axes(0.125,0.11;0.775x0.77)</td>\n      <td>13.15</td>\n    </tr>\n    <tr>\n      <th>...</th>\n      <td>...</td>\n      <td>...</td>\n      <td>...</td>\n      <td>...</td>\n      <td>...</td>\n      <td>...</td>\n      <td>...</td>\n      <td>...</td>\n      <td>...</td>\n      <td>...</td>\n      <td>...</td>\n      <td>...</td>\n      <td>...</td>\n      <td>...</td>\n      <td>...</td>\n      <td>...</td>\n      <td>...</td>\n      <td>...</td>\n      <td>...</td>\n      <td>...</td>\n      <td>...</td>\n    </tr>\n    <tr>\n      <th>4027</th>\n      <td>2024-01-15</td>\n      <td>41700.91</td>\n      <td>43332.79</td>\n      <td>41682.62</td>\n      <td>42492.35</td>\n      <td>408385</td>\n      <td>754220</td>\n      <td>375303</td>\n      <td>73197634206448</td>\n      <td>4.427672e+20</td>\n      <td>...</td>\n      <td>73720.000</td>\n      <td>30.199</td>\n      <td>203592.746000</td>\n      <td>10.443000</td>\n      <td>658906.0</td>\n      <td>Axes(0.125,0.11;0.775x0.77)</td>\n      <td>14.149</td>\n      <td>Axes(0.125,0.11;0.775x0.77)</td>\n      <td>Axes(0.125,0.11;0.775x0.77)</td>\n      <td>43131.47</td>\n    </tr>\n    <tr>\n      <th>4028</th>\n      <td>2024-01-16</td>\n      <td>42483.97</td>\n      <td>43569.31</td>\n      <td>42033.30</td>\n      <td>43131.47</td>\n      <td>469997</td>\n      <td>752060</td>\n      <td>391211</td>\n      <td>73197634206448</td>\n      <td>4.766308e+20</td>\n      <td>...</td>\n      <td>84100.000</td>\n      <td>0.234</td>\n      <td>203645.994121</td>\n      <td>9.137000</td>\n      <td>653810.0</td>\n      <td>Axes(0.125,0.11;0.775x0.77)</td>\n      <td>13.728</td>\n      <td>Axes(0.125,0.11;0.775x0.77)</td>\n      <td>Axes(0.125,0.11;0.775x0.77)</td>\n      <td>42741.63</td>\n    </tr>\n    <tr>\n      <th>4029</th>\n      <td>2024-01-17</td>\n      <td>43132.80</td>\n      <td>43185.47</td>\n      <td>42164.99</td>\n      <td>42741.63</td>\n      <td>449294</td>\n      <td>747345</td>\n      <td>441886</td>\n      <td>73197634206448</td>\n      <td>4.007983e+20</td>\n      <td>...</td>\n      <td>115218.000</td>\n      <td>56.659</td>\n      <td>203693.132959</td>\n      <td>8.050000</td>\n      <td>689721.0</td>\n      <td>Axes(0.125,0.11;0.775x0.77)</td>\n      <td>12.154</td>\n      <td>Axes(0.125,0.11;0.775x0.77)</td>\n      <td>Axes(0.125,0.11;0.775x0.77)</td>\n      <td>41292.17</td>\n    </tr>\n    <tr>\n      <th>4030</th>\n      <td>2024-01-18</td>\n      <td>42740.17</td>\n      <td>42879.39</td>\n      <td>40605.54</td>\n      <td>41292.17</td>\n      <td>483875</td>\n      <td>739462</td>\n      <td>449416</td>\n      <td>73197634206448</td>\n      <td>4.756212e+20</td>\n      <td>...</td>\n      <td>99128.000</td>\n      <td>87.060</td>\n      <td>203732.860584</td>\n      <td>8.920000</td>\n      <td>732999.0</td>\n      <td>Axes(0.125,0.11;0.775x0.77)</td>\n      <td>12.027</td>\n      <td>Axes(0.125,0.11;0.775x0.77)</td>\n      <td>Axes(0.125,0.11;0.775x0.77)</td>\n      <td>41629.02</td>\n    </tr>\n    <tr>\n      <th>4031</th>\n      <td>2024-01-19</td>\n      <td>41289.50</td>\n      <td>42160.16</td>\n      <td>40244.67</td>\n      <td>41629.02</td>\n      <td>460631</td>\n      <td>775060</td>\n      <td>376114</td>\n      <td>73197634206448</td>\n      <td>5.322092e+20</td>\n      <td>...</td>\n      <td>84502.000</td>\n      <td>85.141</td>\n      <td>203763.519531</td>\n      <td>9.704211</td>\n      <td>716688.0</td>\n      <td>Axes(0.125,0.11;0.775x0.77)</td>\n      <td>9.261</td>\n      <td>Axes(0.125,0.11;0.775x0.77)</td>\n      <td>Axes(0.125,0.11;0.775x0.77)</td>\n      <td>41689.62</td>\n    </tr>\n  </tbody>\n</table>\n<p>4032 rows × 25 columns</p>\n</div>"
     },
     "execution_count": 16,
     "metadata": {},
     "output_type": "execute_result"
    }
   ],
   "source": [
    "final_df = pd.read_csv('./final_data_imputed_20_01_2024.csv')\n",
    "final_df"
   ],
   "metadata": {
    "collapsed": false,
    "ExecuteTime": {
     "end_time": "2024-01-23T08:11:13.198137Z",
     "start_time": "2024-01-23T08:11:13.157405Z"
    }
   },
   "id": "43a0a1e4bb6bd8f2"
  },
  {
   "cell_type": "markdown",
   "source": [
    "This function is useful for understanding the importance of different features in a dataset and selecting the most significant ones for further analysis. It leverages visualization techniques to make feature importance information more accessible."
   ],
   "metadata": {
    "collapsed": false
   },
   "id": "491be88636caa339"
  },
  {
   "cell_type": "code",
   "execution_count": 18,
   "outputs": [],
   "source": [
    "def feature_imp(df,feat_importance,n_select_features):\n",
    "    feat_imp_df = pd.DataFrame(data = {\"Feature Name\": df.columns,\"Feature Importance\":feat_importance})\n",
    "\n",
    "    feat_imp_df = feat_imp_df.sort_values(\"Feature Importance\",ascending=False)[:n_select_features]\n",
    "    \n",
    "    # Create a bar plot to visualize the feature importance's\n",
    "    fig,ax = plt.subplots(figsize=(14,12))\n",
    "    ax = sns.barplot(x = \"Feature Importance\",y = \"Feature Name\",\n",
    "                    data=feat_imp_df,palette=\"nipy_spectral\")\n",
    "    plt.title('Feature Importances')\n",
    "\n",
    "    cmap = plt.get_cmap('nipy_spectral_r',n_select_features)\n",
    "    minfi = min(feat_imp_df['Feature Importance'])\n",
    "    maxfi = max(feat_imp_df['Feature Importance'])\n",
    "    norm = mpl.colors.Normalize(vmin=minfi,vmax=maxfi)\n",
    "    sm = plt.cm.ScalarMappable(cmap=cmap,norm=norm)\n",
    "    sm.set_array([])\n",
    "    \n",
    "    # Show the color bar\n",
    "    # plt.colorbar(sm,ticks=np.linspace(minfi,maxfi,n_select_features),\n",
    "    #             boundaries=np.arange(minfi,maxfi+0.001,.0001))\n",
    "    \n",
    "    # Display the grid lines along the x-axis\n",
    "    ax.xaxis.grid()\n",
    "    # Show the plot\n",
    "    plt.show()\n",
    "    # Return the DataFrame with feature importance's and selected features from the original DataFrame\n",
    "    return feat_imp_df,df[feat_imp_df['Feature Name']]"
   ],
   "metadata": {
    "collapsed": false,
    "ExecuteTime": {
     "end_time": "2024-01-23T08:13:09.273617Z",
     "start_time": "2024-01-23T08:13:09.262691Z"
    }
   },
   "id": "a5a29972306b6183"
  },
  {
   "cell_type": "markdown",
   "source": [
    "Data Scaling"
   ],
   "metadata": {
    "collapsed": false
   },
   "id": "869d923ba1c78d26"
  },
  {
   "cell_type": "code",
   "execution_count": 26,
   "outputs": [
    {
     "ename": "ValueError",
     "evalue": "could not convert string to float: 'Axes(0.125,0.11;0.775x0.77)'",
     "output_type": "error",
     "traceback": [
      "\u001B[0;31m---------------------------------------------------------------------------\u001B[0m",
      "\u001B[0;31mValueError\u001B[0m                                Traceback (most recent call last)",
      "\u001B[0;32m/var/folders/jf/kvs8115j6j3748xtj40zdrwc0000gn/T/ipykernel_60404/1950331147.py\u001B[0m in \u001B[0;36m?\u001B[0;34m()\u001B[0m\n\u001B[1;32m      2\u001B[0m \u001B[0;34m\u001B[0m\u001B[0m\n\u001B[1;32m      3\u001B[0m \u001B[0mscaler\u001B[0m \u001B[0;34m=\u001B[0m \u001B[0mRobustScaler\u001B[0m\u001B[0;34m(\u001B[0m\u001B[0;34m)\u001B[0m\u001B[0;34m\u001B[0m\u001B[0;34m\u001B[0m\u001B[0m\n\u001B[1;32m      4\u001B[0m \u001B[0mX_scaled\u001B[0m \u001B[0;34m=\u001B[0m \u001B[0mX\u001B[0m\u001B[0;34m.\u001B[0m\u001B[0mcopy\u001B[0m\u001B[0;34m(\u001B[0m\u001B[0;34m)\u001B[0m\u001B[0;34m\u001B[0m\u001B[0;34m\u001B[0m\u001B[0m\n\u001B[1;32m      5\u001B[0m \u001B[0;34m\u001B[0m\u001B[0m\n\u001B[0;32m----> 6\u001B[0;31m \u001B[0mX_scaled\u001B[0m\u001B[0;34m[\u001B[0m\u001B[0mX\u001B[0m\u001B[0;34m.\u001B[0m\u001B[0mcolumns\u001B[0m\u001B[0;34m]\u001B[0m \u001B[0;34m=\u001B[0m \u001B[0mscaler\u001B[0m\u001B[0;34m.\u001B[0m\u001B[0mfit_transform\u001B[0m\u001B[0;34m(\u001B[0m\u001B[0mX\u001B[0m\u001B[0;34m[\u001B[0m\u001B[0mX\u001B[0m\u001B[0;34m.\u001B[0m\u001B[0mcolumns\u001B[0m\u001B[0;34m]\u001B[0m\u001B[0;34m)\u001B[0m\u001B[0;34m\u001B[0m\u001B[0;34m\u001B[0m\u001B[0m\n\u001B[0m\u001B[1;32m      7\u001B[0m \u001B[0;34m\u001B[0m\u001B[0m\n\u001B[1;32m      8\u001B[0m \u001B[0mscaler\u001B[0m \u001B[0;34m=\u001B[0m \u001B[0mMinMaxScaler\u001B[0m\u001B[0;34m(\u001B[0m\u001B[0;34m)\u001B[0m\u001B[0;34m\u001B[0m\u001B[0;34m\u001B[0m\u001B[0m\n\u001B[1;32m      9\u001B[0m \u001B[0mX_scaled\u001B[0m\u001B[0;34m[\u001B[0m\u001B[0mX\u001B[0m\u001B[0;34m.\u001B[0m\u001B[0mcolumns\u001B[0m\u001B[0;34m]\u001B[0m \u001B[0;34m=\u001B[0m  \u001B[0mscaler\u001B[0m\u001B[0;34m.\u001B[0m\u001B[0mfit_transform\u001B[0m\u001B[0;34m(\u001B[0m\u001B[0mX_scaled\u001B[0m\u001B[0;34m[\u001B[0m\u001B[0mX\u001B[0m\u001B[0;34m.\u001B[0m\u001B[0mcolumns\u001B[0m\u001B[0;34m]\u001B[0m\u001B[0;34m)\u001B[0m\u001B[0;34m\u001B[0m\u001B[0;34m\u001B[0m\u001B[0m\n",
      "\u001B[0;32m/usr/local/lib/python3.11/site-packages/sklearn/utils/_set_output.py\u001B[0m in \u001B[0;36m?\u001B[0;34m(self, X, *args, **kwargs)\u001B[0m\n\u001B[1;32m    155\u001B[0m     \u001B[0;34m@\u001B[0m\u001B[0mwraps\u001B[0m\u001B[0;34m(\u001B[0m\u001B[0mf\u001B[0m\u001B[0;34m)\u001B[0m\u001B[0;34m\u001B[0m\u001B[0;34m\u001B[0m\u001B[0m\n\u001B[1;32m    156\u001B[0m     \u001B[0;32mdef\u001B[0m \u001B[0mwrapped\u001B[0m\u001B[0;34m(\u001B[0m\u001B[0mself\u001B[0m\u001B[0;34m,\u001B[0m \u001B[0mX\u001B[0m\u001B[0;34m,\u001B[0m \u001B[0;34m*\u001B[0m\u001B[0margs\u001B[0m\u001B[0;34m,\u001B[0m \u001B[0;34m**\u001B[0m\u001B[0mkwargs\u001B[0m\u001B[0;34m)\u001B[0m\u001B[0;34m:\u001B[0m\u001B[0;34m\u001B[0m\u001B[0;34m\u001B[0m\u001B[0m\n\u001B[0;32m--> 157\u001B[0;31m         \u001B[0mdata_to_wrap\u001B[0m \u001B[0;34m=\u001B[0m \u001B[0mf\u001B[0m\u001B[0;34m(\u001B[0m\u001B[0mself\u001B[0m\u001B[0;34m,\u001B[0m \u001B[0mX\u001B[0m\u001B[0;34m,\u001B[0m \u001B[0;34m*\u001B[0m\u001B[0margs\u001B[0m\u001B[0;34m,\u001B[0m \u001B[0;34m**\u001B[0m\u001B[0mkwargs\u001B[0m\u001B[0;34m)\u001B[0m\u001B[0;34m\u001B[0m\u001B[0;34m\u001B[0m\u001B[0m\n\u001B[0m\u001B[1;32m    158\u001B[0m         \u001B[0;32mif\u001B[0m \u001B[0misinstance\u001B[0m\u001B[0;34m(\u001B[0m\u001B[0mdata_to_wrap\u001B[0m\u001B[0;34m,\u001B[0m \u001B[0mtuple\u001B[0m\u001B[0;34m)\u001B[0m\u001B[0;34m:\u001B[0m\u001B[0;34m\u001B[0m\u001B[0;34m\u001B[0m\u001B[0m\n\u001B[1;32m    159\u001B[0m             \u001B[0;31m# only wrap the first output for cross decomposition\u001B[0m\u001B[0;34m\u001B[0m\u001B[0;34m\u001B[0m\u001B[0m\n\u001B[1;32m    160\u001B[0m             return_tuple = (\n",
      "\u001B[0;32m/usr/local/lib/python3.11/site-packages/sklearn/base.py\u001B[0m in \u001B[0;36m?\u001B[0;34m(self, X, y, **fit_params)\u001B[0m\n\u001B[1;32m    912\u001B[0m         \u001B[0;31m# non-optimized default implementation; override when a better\u001B[0m\u001B[0;34m\u001B[0m\u001B[0;34m\u001B[0m\u001B[0m\n\u001B[1;32m    913\u001B[0m         \u001B[0;31m# method is possible for a given clustering algorithm\u001B[0m\u001B[0;34m\u001B[0m\u001B[0;34m\u001B[0m\u001B[0m\n\u001B[1;32m    914\u001B[0m         \u001B[0;32mif\u001B[0m \u001B[0my\u001B[0m \u001B[0;32mis\u001B[0m \u001B[0;32mNone\u001B[0m\u001B[0;34m:\u001B[0m\u001B[0;34m\u001B[0m\u001B[0;34m\u001B[0m\u001B[0m\n\u001B[1;32m    915\u001B[0m             \u001B[0;31m# fit method of arity 1 (unsupervised transformation)\u001B[0m\u001B[0;34m\u001B[0m\u001B[0;34m\u001B[0m\u001B[0m\n\u001B[0;32m--> 916\u001B[0;31m             \u001B[0;32mreturn\u001B[0m \u001B[0mself\u001B[0m\u001B[0;34m.\u001B[0m\u001B[0mfit\u001B[0m\u001B[0;34m(\u001B[0m\u001B[0mX\u001B[0m\u001B[0;34m,\u001B[0m \u001B[0;34m**\u001B[0m\u001B[0mfit_params\u001B[0m\u001B[0;34m)\u001B[0m\u001B[0;34m.\u001B[0m\u001B[0mtransform\u001B[0m\u001B[0;34m(\u001B[0m\u001B[0mX\u001B[0m\u001B[0;34m)\u001B[0m\u001B[0;34m\u001B[0m\u001B[0;34m\u001B[0m\u001B[0m\n\u001B[0m\u001B[1;32m    917\u001B[0m         \u001B[0;32melse\u001B[0m\u001B[0;34m:\u001B[0m\u001B[0;34m\u001B[0m\u001B[0;34m\u001B[0m\u001B[0m\n\u001B[1;32m    918\u001B[0m             \u001B[0;31m# fit method of arity 2 (supervised transformation)\u001B[0m\u001B[0;34m\u001B[0m\u001B[0;34m\u001B[0m\u001B[0m\n\u001B[1;32m    919\u001B[0m             \u001B[0;32mreturn\u001B[0m \u001B[0mself\u001B[0m\u001B[0;34m.\u001B[0m\u001B[0mfit\u001B[0m\u001B[0;34m(\u001B[0m\u001B[0mX\u001B[0m\u001B[0;34m,\u001B[0m \u001B[0my\u001B[0m\u001B[0;34m,\u001B[0m \u001B[0;34m**\u001B[0m\u001B[0mfit_params\u001B[0m\u001B[0;34m)\u001B[0m\u001B[0;34m.\u001B[0m\u001B[0mtransform\u001B[0m\u001B[0;34m(\u001B[0m\u001B[0mX\u001B[0m\u001B[0;34m)\u001B[0m\u001B[0;34m\u001B[0m\u001B[0;34m\u001B[0m\u001B[0m\n",
      "\u001B[0;32m/usr/local/lib/python3.11/site-packages/sklearn/base.py\u001B[0m in \u001B[0;36m?\u001B[0;34m(estimator, *args, **kwargs)\u001B[0m\n\u001B[1;32m   1148\u001B[0m                 skip_parameter_validation=(\n\u001B[1;32m   1149\u001B[0m                     \u001B[0mprefer_skip_nested_validation\u001B[0m \u001B[0;32mor\u001B[0m \u001B[0mglobal_skip_validation\u001B[0m\u001B[0;34m\u001B[0m\u001B[0;34m\u001B[0m\u001B[0m\n\u001B[1;32m   1150\u001B[0m                 )\n\u001B[1;32m   1151\u001B[0m             ):\n\u001B[0;32m-> 1152\u001B[0;31m                 \u001B[0;32mreturn\u001B[0m \u001B[0mfit_method\u001B[0m\u001B[0;34m(\u001B[0m\u001B[0mestimator\u001B[0m\u001B[0;34m,\u001B[0m \u001B[0;34m*\u001B[0m\u001B[0margs\u001B[0m\u001B[0;34m,\u001B[0m \u001B[0;34m**\u001B[0m\u001B[0mkwargs\u001B[0m\u001B[0;34m)\u001B[0m\u001B[0;34m\u001B[0m\u001B[0;34m\u001B[0m\u001B[0m\n\u001B[0m",
      "\u001B[0;32m/usr/local/lib/python3.11/site-packages/sklearn/preprocessing/_data.py\u001B[0m in \u001B[0;36m?\u001B[0;34m(self, X, y)\u001B[0m\n\u001B[1;32m   1529\u001B[0m             \u001B[0mFitted\u001B[0m \u001B[0mscaler\u001B[0m\u001B[0;34m.\u001B[0m\u001B[0;34m\u001B[0m\u001B[0;34m\u001B[0m\u001B[0m\n\u001B[1;32m   1530\u001B[0m         \"\"\"\n\u001B[1;32m   1531\u001B[0m         \u001B[0;31m# at fit, convert sparse matrices to csc for optimized computation of\u001B[0m\u001B[0;34m\u001B[0m\u001B[0;34m\u001B[0m\u001B[0m\n\u001B[1;32m   1532\u001B[0m         \u001B[0;31m# the quantiles\u001B[0m\u001B[0;34m\u001B[0m\u001B[0;34m\u001B[0m\u001B[0m\n\u001B[0;32m-> 1533\u001B[0;31m         X = self._validate_data(\n\u001B[0m\u001B[1;32m   1534\u001B[0m             \u001B[0mX\u001B[0m\u001B[0;34m,\u001B[0m\u001B[0;34m\u001B[0m\u001B[0;34m\u001B[0m\u001B[0m\n\u001B[1;32m   1535\u001B[0m             \u001B[0maccept_sparse\u001B[0m\u001B[0;34m=\u001B[0m\u001B[0;34m\"csc\"\u001B[0m\u001B[0;34m,\u001B[0m\u001B[0;34m\u001B[0m\u001B[0;34m\u001B[0m\u001B[0m\n\u001B[1;32m   1536\u001B[0m             \u001B[0mdtype\u001B[0m\u001B[0;34m=\u001B[0m\u001B[0mFLOAT_DTYPES\u001B[0m\u001B[0;34m,\u001B[0m\u001B[0;34m\u001B[0m\u001B[0;34m\u001B[0m\u001B[0m\n",
      "\u001B[0;32m/usr/local/lib/python3.11/site-packages/sklearn/base.py\u001B[0m in \u001B[0;36m?\u001B[0;34m(self, X, y, reset, validate_separately, cast_to_ndarray, **check_params)\u001B[0m\n\u001B[1;32m    601\u001B[0m                 \u001B[0mout\u001B[0m \u001B[0;34m=\u001B[0m \u001B[0my\u001B[0m\u001B[0;34m\u001B[0m\u001B[0;34m\u001B[0m\u001B[0m\n\u001B[1;32m    602\u001B[0m             \u001B[0;32melse\u001B[0m\u001B[0;34m:\u001B[0m\u001B[0;34m\u001B[0m\u001B[0;34m\u001B[0m\u001B[0m\n\u001B[1;32m    603\u001B[0m                 \u001B[0mout\u001B[0m \u001B[0;34m=\u001B[0m \u001B[0mX\u001B[0m\u001B[0;34m,\u001B[0m \u001B[0my\u001B[0m\u001B[0;34m\u001B[0m\u001B[0;34m\u001B[0m\u001B[0m\n\u001B[1;32m    604\u001B[0m         \u001B[0;32melif\u001B[0m \u001B[0;32mnot\u001B[0m \u001B[0mno_val_X\u001B[0m \u001B[0;32mand\u001B[0m \u001B[0mno_val_y\u001B[0m\u001B[0;34m:\u001B[0m\u001B[0;34m\u001B[0m\u001B[0;34m\u001B[0m\u001B[0m\n\u001B[0;32m--> 605\u001B[0;31m             \u001B[0mout\u001B[0m \u001B[0;34m=\u001B[0m \u001B[0mcheck_array\u001B[0m\u001B[0;34m(\u001B[0m\u001B[0mX\u001B[0m\u001B[0;34m,\u001B[0m \u001B[0minput_name\u001B[0m\u001B[0;34m=\u001B[0m\u001B[0;34m\"X\"\u001B[0m\u001B[0;34m,\u001B[0m \u001B[0;34m**\u001B[0m\u001B[0mcheck_params\u001B[0m\u001B[0;34m)\u001B[0m\u001B[0;34m\u001B[0m\u001B[0;34m\u001B[0m\u001B[0m\n\u001B[0m\u001B[1;32m    606\u001B[0m         \u001B[0;32melif\u001B[0m \u001B[0mno_val_X\u001B[0m \u001B[0;32mand\u001B[0m \u001B[0;32mnot\u001B[0m \u001B[0mno_val_y\u001B[0m\u001B[0;34m:\u001B[0m\u001B[0;34m\u001B[0m\u001B[0;34m\u001B[0m\u001B[0m\n\u001B[1;32m    607\u001B[0m             \u001B[0mout\u001B[0m \u001B[0;34m=\u001B[0m \u001B[0m_check_y\u001B[0m\u001B[0;34m(\u001B[0m\u001B[0my\u001B[0m\u001B[0;34m,\u001B[0m \u001B[0;34m**\u001B[0m\u001B[0mcheck_params\u001B[0m\u001B[0;34m)\u001B[0m\u001B[0;34m\u001B[0m\u001B[0;34m\u001B[0m\u001B[0m\n\u001B[1;32m    608\u001B[0m         \u001B[0;32melse\u001B[0m\u001B[0;34m:\u001B[0m\u001B[0;34m\u001B[0m\u001B[0;34m\u001B[0m\u001B[0m\n",
      "\u001B[0;32m/usr/local/lib/python3.11/site-packages/sklearn/utils/validation.py\u001B[0m in \u001B[0;36m?\u001B[0;34m(array, accept_sparse, accept_large_sparse, dtype, order, copy, force_all_finite, ensure_2d, allow_nd, ensure_min_samples, ensure_min_features, estimator, input_name)\u001B[0m\n\u001B[1;32m    912\u001B[0m                         )\n\u001B[1;32m    913\u001B[0m                     \u001B[0marray\u001B[0m \u001B[0;34m=\u001B[0m \u001B[0mxp\u001B[0m\u001B[0;34m.\u001B[0m\u001B[0mastype\u001B[0m\u001B[0;34m(\u001B[0m\u001B[0marray\u001B[0m\u001B[0;34m,\u001B[0m \u001B[0mdtype\u001B[0m\u001B[0;34m,\u001B[0m \u001B[0mcopy\u001B[0m\u001B[0;34m=\u001B[0m\u001B[0;32mFalse\u001B[0m\u001B[0;34m)\u001B[0m\u001B[0;34m\u001B[0m\u001B[0;34m\u001B[0m\u001B[0m\n\u001B[1;32m    914\u001B[0m                 \u001B[0;32melse\u001B[0m\u001B[0;34m:\u001B[0m\u001B[0;34m\u001B[0m\u001B[0;34m\u001B[0m\u001B[0m\n\u001B[1;32m    915\u001B[0m                     \u001B[0marray\u001B[0m \u001B[0;34m=\u001B[0m \u001B[0m_asarray_with_order\u001B[0m\u001B[0;34m(\u001B[0m\u001B[0marray\u001B[0m\u001B[0;34m,\u001B[0m \u001B[0morder\u001B[0m\u001B[0;34m=\u001B[0m\u001B[0morder\u001B[0m\u001B[0;34m,\u001B[0m \u001B[0mdtype\u001B[0m\u001B[0;34m=\u001B[0m\u001B[0mdtype\u001B[0m\u001B[0;34m,\u001B[0m \u001B[0mxp\u001B[0m\u001B[0;34m=\u001B[0m\u001B[0mxp\u001B[0m\u001B[0;34m)\u001B[0m\u001B[0;34m\u001B[0m\u001B[0;34m\u001B[0m\u001B[0m\n\u001B[0;32m--> 916\u001B[0;31m             \u001B[0;32mexcept\u001B[0m \u001B[0mComplexWarning\u001B[0m \u001B[0;32mas\u001B[0m \u001B[0mcomplex_warning\u001B[0m\u001B[0;34m:\u001B[0m\u001B[0;34m\u001B[0m\u001B[0;34m\u001B[0m\u001B[0m\n\u001B[0m\u001B[1;32m    917\u001B[0m                 raise ValueError(\n\u001B[1;32m    918\u001B[0m                     \u001B[0;34m\"Complex data not supported\\n{}\\n\"\u001B[0m\u001B[0;34m.\u001B[0m\u001B[0mformat\u001B[0m\u001B[0;34m(\u001B[0m\u001B[0marray\u001B[0m\u001B[0;34m)\u001B[0m\u001B[0;34m\u001B[0m\u001B[0;34m\u001B[0m\u001B[0m\n\u001B[1;32m    919\u001B[0m                 ) from complex_warning\n",
      "\u001B[0;32m/usr/local/lib/python3.11/site-packages/sklearn/utils/_array_api.py\u001B[0m in \u001B[0;36m?\u001B[0;34m(array, dtype, order, copy, xp)\u001B[0m\n\u001B[1;32m    376\u001B[0m         \u001B[0;31m# Use NumPy API to support order\u001B[0m\u001B[0;34m\u001B[0m\u001B[0;34m\u001B[0m\u001B[0m\n\u001B[1;32m    377\u001B[0m         \u001B[0;32mif\u001B[0m \u001B[0mcopy\u001B[0m \u001B[0;32mis\u001B[0m \u001B[0;32mTrue\u001B[0m\u001B[0;34m:\u001B[0m\u001B[0;34m\u001B[0m\u001B[0;34m\u001B[0m\u001B[0m\n\u001B[1;32m    378\u001B[0m             \u001B[0marray\u001B[0m \u001B[0;34m=\u001B[0m \u001B[0mnumpy\u001B[0m\u001B[0;34m.\u001B[0m\u001B[0marray\u001B[0m\u001B[0;34m(\u001B[0m\u001B[0marray\u001B[0m\u001B[0;34m,\u001B[0m \u001B[0morder\u001B[0m\u001B[0;34m=\u001B[0m\u001B[0morder\u001B[0m\u001B[0;34m,\u001B[0m \u001B[0mdtype\u001B[0m\u001B[0;34m=\u001B[0m\u001B[0mdtype\u001B[0m\u001B[0;34m)\u001B[0m\u001B[0;34m\u001B[0m\u001B[0;34m\u001B[0m\u001B[0m\n\u001B[1;32m    379\u001B[0m         \u001B[0;32melse\u001B[0m\u001B[0;34m:\u001B[0m\u001B[0;34m\u001B[0m\u001B[0;34m\u001B[0m\u001B[0m\n\u001B[0;32m--> 380\u001B[0;31m             \u001B[0marray\u001B[0m \u001B[0;34m=\u001B[0m \u001B[0mnumpy\u001B[0m\u001B[0;34m.\u001B[0m\u001B[0masarray\u001B[0m\u001B[0;34m(\u001B[0m\u001B[0marray\u001B[0m\u001B[0;34m,\u001B[0m \u001B[0morder\u001B[0m\u001B[0;34m=\u001B[0m\u001B[0morder\u001B[0m\u001B[0;34m,\u001B[0m \u001B[0mdtype\u001B[0m\u001B[0;34m=\u001B[0m\u001B[0mdtype\u001B[0m\u001B[0;34m)\u001B[0m\u001B[0;34m\u001B[0m\u001B[0;34m\u001B[0m\u001B[0m\n\u001B[0m\u001B[1;32m    381\u001B[0m \u001B[0;34m\u001B[0m\u001B[0m\n\u001B[1;32m    382\u001B[0m         \u001B[0;31m# At this point array is a NumPy ndarray. We convert it to an array\u001B[0m\u001B[0;34m\u001B[0m\u001B[0;34m\u001B[0m\u001B[0m\n\u001B[1;32m    383\u001B[0m         \u001B[0;31m# container that is consistent with the input's namespace.\u001B[0m\u001B[0;34m\u001B[0m\u001B[0;34m\u001B[0m\u001B[0m\n",
      "\u001B[0;32m/usr/local/lib/python3.11/site-packages/pandas/core/generic.py\u001B[0m in \u001B[0;36m?\u001B[0;34m(self, dtype)\u001B[0m\n\u001B[1;32m   2082\u001B[0m     \u001B[0;32mdef\u001B[0m \u001B[0m__array__\u001B[0m\u001B[0;34m(\u001B[0m\u001B[0mself\u001B[0m\u001B[0;34m,\u001B[0m \u001B[0mdtype\u001B[0m\u001B[0;34m:\u001B[0m \u001B[0mnpt\u001B[0m\u001B[0;34m.\u001B[0m\u001B[0mDTypeLike\u001B[0m \u001B[0;34m|\u001B[0m \u001B[0;32mNone\u001B[0m \u001B[0;34m=\u001B[0m \u001B[0;32mNone\u001B[0m\u001B[0;34m)\u001B[0m \u001B[0;34m->\u001B[0m \u001B[0mnp\u001B[0m\u001B[0;34m.\u001B[0m\u001B[0mndarray\u001B[0m\u001B[0;34m:\u001B[0m\u001B[0;34m\u001B[0m\u001B[0;34m\u001B[0m\u001B[0m\n\u001B[1;32m   2083\u001B[0m         \u001B[0mvalues\u001B[0m \u001B[0;34m=\u001B[0m \u001B[0mself\u001B[0m\u001B[0;34m.\u001B[0m\u001B[0m_values\u001B[0m\u001B[0;34m\u001B[0m\u001B[0;34m\u001B[0m\u001B[0m\n\u001B[0;32m-> 2084\u001B[0;31m         \u001B[0marr\u001B[0m \u001B[0;34m=\u001B[0m \u001B[0mnp\u001B[0m\u001B[0;34m.\u001B[0m\u001B[0masarray\u001B[0m\u001B[0;34m(\u001B[0m\u001B[0mvalues\u001B[0m\u001B[0;34m,\u001B[0m \u001B[0mdtype\u001B[0m\u001B[0;34m=\u001B[0m\u001B[0mdtype\u001B[0m\u001B[0;34m)\u001B[0m\u001B[0;34m\u001B[0m\u001B[0;34m\u001B[0m\u001B[0m\n\u001B[0m\u001B[1;32m   2085\u001B[0m         if (\n\u001B[1;32m   2086\u001B[0m             \u001B[0mastype_is_view\u001B[0m\u001B[0;34m(\u001B[0m\u001B[0mvalues\u001B[0m\u001B[0;34m.\u001B[0m\u001B[0mdtype\u001B[0m\u001B[0;34m,\u001B[0m \u001B[0marr\u001B[0m\u001B[0;34m.\u001B[0m\u001B[0mdtype\u001B[0m\u001B[0;34m)\u001B[0m\u001B[0;34m\u001B[0m\u001B[0;34m\u001B[0m\u001B[0m\n\u001B[1;32m   2087\u001B[0m             \u001B[0;32mand\u001B[0m \u001B[0musing_copy_on_write\u001B[0m\u001B[0;34m(\u001B[0m\u001B[0;34m)\u001B[0m\u001B[0;34m\u001B[0m\u001B[0;34m\u001B[0m\u001B[0m\n",
      "\u001B[0;31mValueError\u001B[0m: could not convert string to float: 'Axes(0.125,0.11;0.775x0.77)'"
     ]
    }
   ],
   "source": [
    "# problem here!!!\n",
    "X = final_df.drop(['Date','next_day_closing_price'],axis=1)\n",
    "\n",
    "scaler = RobustScaler()\n",
    "X_scaled = X.copy()\n",
    "    \n",
    "X_scaled[X.columns] = scaler.fit_transform(X[X.columns])\n",
    "\n",
    "scaler = MinMaxScaler()\n",
    "X_scaled[X.columns] =  scaler.fit_transform(X_scaled[X.columns])\n",
    "\n",
    "print(X_scaled)\n"
   ],
   "metadata": {
    "collapsed": false,
    "ExecuteTime": {
     "end_time": "2024-01-23T08:17:00.794627Z",
     "start_time": "2024-01-23T08:17:00.754694Z"
    }
   },
   "id": "fd129e0305b1c0e0"
  },
  {
   "cell_type": "code",
   "execution_count": 5,
   "outputs": [
    {
     "ename": "NameError",
     "evalue": "name 'X_scaled' is not defined",
     "output_type": "error",
     "traceback": [
      "\u001B[0;31m---------------------------------------------------------------------------\u001B[0m",
      "\u001B[0;31mNameError\u001B[0m                                 Traceback (most recent call last)",
      "Cell \u001B[0;32mIn[5], line 4\u001B[0m\n\u001B[1;32m      1\u001B[0m y \u001B[38;5;241m=\u001B[39m final_df[\u001B[38;5;124m'\u001B[39m\u001B[38;5;124mnext_day_closing_price\u001B[39m\u001B[38;5;124m'\u001B[39m]\n\u001B[1;32m      2\u001B[0m rf \u001B[38;5;241m=\u001B[39m RandomForestRegressor(n_estimators\u001B[38;5;241m=\u001B[39m\u001B[38;5;241m100\u001B[39m,n_jobs\u001B[38;5;241m=\u001B[39m\u001B[38;5;241m-\u001B[39m\u001B[38;5;241m1\u001B[39m,bootstrap\u001B[38;5;241m=\u001B[39m\u001B[38;5;28;01mTrue\u001B[39;00m,\n\u001B[1;32m      3\u001B[0m                            verbose\u001B[38;5;241m=\u001B[39m\u001B[38;5;241m5\u001B[39m,random_state\u001B[38;5;241m=\u001B[39m\u001B[38;5;241m1\u001B[39m)\n\u001B[0;32m----> 4\u001B[0m rf\u001B[38;5;241m.\u001B[39mfit(\u001B[43mX_scaled\u001B[49m,y)\n",
      "\u001B[0;31mNameError\u001B[0m: name 'X_scaled' is not defined"
     ]
    }
   ],
   "source": [
    "y = final_df['next_day_closing_price']\n",
    "rf = RandomForestRegressor(n_estimators=100,n_jobs=-1,bootstrap=True,\n",
    "                           verbose=5,random_state=1)\n",
    "rf.fit(X_scaled,y)\n",
    "     "
   ],
   "metadata": {
    "collapsed": false,
    "ExecuteTime": {
     "end_time": "2024-01-23T08:04:47.785735Z",
     "start_time": "2024-01-23T08:04:47.778183Z"
    }
   },
   "id": "d59694d0f4817e91"
  },
  {
   "cell_type": "code",
   "execution_count": null,
   "outputs": [],
   "source": [],
   "metadata": {
    "collapsed": false
   },
   "id": "f794d97c4a89d157"
  }
 ],
 "metadata": {
  "kernelspec": {
   "display_name": "Python 3",
   "language": "python",
   "name": "python3"
  },
  "language_info": {
   "codemirror_mode": {
    "name": "ipython",
    "version": 2
   },
   "file_extension": ".py",
   "mimetype": "text/x-python",
   "name": "python",
   "nbconvert_exporter": "python",
   "pygments_lexer": "ipython2",
   "version": "2.7.6"
  }
 },
 "nbformat": 4,
 "nbformat_minor": 5
}
